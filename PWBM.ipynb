{
 "cells": [
  {
   "cell_type": "code",
   "execution_count": 186,
   "metadata": {},
   "outputs": [],
   "source": [
    "import pandas as pd\n",
    "import numpy as np\n",
    "import matplotlib.pyplot as plt\n",
    "import seaborn as sns\n",
    "\n",
    "%matplotlib inline"
   ]
  },
  {
   "cell_type": "code",
   "execution_count": 187,
   "metadata": {},
   "outputs": [],
   "source": [
    "df = pd.read_csv('MarchCPS_1995_2015.csv')"
   ]
  },
  {
   "cell_type": "code",
   "execution_count": 188,
   "metadata": {},
   "outputs": [
    {
     "data": {
      "text/html": [
       "<div>\n",
       "<style scoped>\n",
       "    .dataframe tbody tr th:only-of-type {\n",
       "        vertical-align: middle;\n",
       "    }\n",
       "\n",
       "    .dataframe tbody tr th {\n",
       "        vertical-align: top;\n",
       "    }\n",
       "\n",
       "    .dataframe thead th {\n",
       "        text-align: right;\n",
       "    }\n",
       "</style>\n",
       "<table border=\"1\" class=\"dataframe\">\n",
       "  <thead>\n",
       "    <tr style=\"text-align: right;\">\n",
       "      <th></th>\n",
       "      <th>year</th>\n",
       "      <th>wtsupp</th>\n",
       "      <th>age</th>\n",
       "      <th>sex</th>\n",
       "      <th>popstat</th>\n",
       "      <th>labforce</th>\n",
       "    </tr>\n",
       "  </thead>\n",
       "  <tbody>\n",
       "    <tr>\n",
       "      <th>0</th>\n",
       "      <td>1995</td>\n",
       "      <td>929.61</td>\n",
       "      <td>48</td>\n",
       "      <td>2</td>\n",
       "      <td>1</td>\n",
       "      <td>1</td>\n",
       "    </tr>\n",
       "    <tr>\n",
       "      <th>1</th>\n",
       "      <td>1995</td>\n",
       "      <td>832.67</td>\n",
       "      <td>65</td>\n",
       "      <td>2</td>\n",
       "      <td>1</td>\n",
       "      <td>2</td>\n",
       "    </tr>\n",
       "    <tr>\n",
       "      <th>2</th>\n",
       "      <td>1995</td>\n",
       "      <td>787.95</td>\n",
       "      <td>10</td>\n",
       "      <td>2</td>\n",
       "      <td>3</td>\n",
       "      <td>0</td>\n",
       "    </tr>\n",
       "    <tr>\n",
       "      <th>3</th>\n",
       "      <td>1995</td>\n",
       "      <td>938.27</td>\n",
       "      <td>25</td>\n",
       "      <td>2</td>\n",
       "      <td>1</td>\n",
       "      <td>2</td>\n",
       "    </tr>\n",
       "    <tr>\n",
       "      <th>4</th>\n",
       "      <td>1995</td>\n",
       "      <td>900.74</td>\n",
       "      <td>21</td>\n",
       "      <td>1</td>\n",
       "      <td>1</td>\n",
       "      <td>2</td>\n",
       "    </tr>\n",
       "  </tbody>\n",
       "</table>\n",
       "</div>"
      ],
      "text/plain": [
       "   year  wtsupp  age  sex  popstat  labforce\n",
       "0  1995  929.61   48    2        1         1\n",
       "1  1995  832.67   65    2        1         2\n",
       "2  1995  787.95   10    2        3         0\n",
       "3  1995  938.27   25    2        1         2\n",
       "4  1995  900.74   21    1        1         2"
      ]
     },
     "execution_count": 188,
     "metadata": {},
     "output_type": "execute_result"
    }
   ],
   "source": [
    "df.head()"
   ]
  },
  {
   "cell_type": "code",
   "execution_count": 189,
   "metadata": {},
   "outputs": [
    {
     "data": {
      "text/plain": [
       "2    169589\n",
       "1     97454\n",
       "0     81623\n",
       "Name: labforce, dtype: int64"
      ]
     },
     "execution_count": 189,
     "metadata": {},
     "output_type": "execute_result"
    }
   ],
   "source": [
    "df['labforce'].value_counts()"
   ]
  },
  {
   "cell_type": "markdown",
   "metadata": {},
   "source": [
    "## README about the data\n",
    "\n",
    "## Includes 1995 and 2015 labor data\n",
    " WTSUPP\t\tSupplement Weight\n",
    "The CPS samples are weighted, with some records representing more cases than others. \n",
    "This means that persons and households with some characteristics are over-represented in the samples, while others are underrepresented.\n",
    "To obtain representative statistics from the samples, users must apply sample weights.\n",
    "\n",
    " AGE\t\tAge\n",
    "Top codes:\n",
    "1988-2001: 90+ coded as 90 \n",
    "2002-2003: 80+ coded as 80 \n",
    "2004-onward: 80-84 coded as 80, 85+ coded as 85\n",
    "\n",
    " SEX\t\tSex\n",
    "1\t\tMale\n",
    "2\t\tFemale\n",
    "9\t\tNot in universe\n",
    "\n",
    " POPSTAT\tAdult civilian, armed forces, or child\n",
    "1\t\tAdult civilian\n",
    "2\t\tArmed forces\n",
    "3\t\tChild\n",
    "\n",
    " LABFORCE\tLabor force status\n",
    "0\t\tNot in universe\n",
    "1\t\tNo, not in the labor force\n",
    "2\t\tYes, in the labor force"
   ]
  },
  {
   "cell_type": "code",
   "execution_count": 190,
   "metadata": {
    "scrolled": true
   },
   "outputs": [
    {
     "data": {
      "text/html": [
       "<div>\n",
       "<style scoped>\n",
       "    .dataframe tbody tr th:only-of-type {\n",
       "        vertical-align: middle;\n",
       "    }\n",
       "\n",
       "    .dataframe tbody tr th {\n",
       "        vertical-align: top;\n",
       "    }\n",
       "\n",
       "    .dataframe thead th {\n",
       "        text-align: right;\n",
       "    }\n",
       "</style>\n",
       "<table border=\"1\" class=\"dataframe\">\n",
       "  <thead>\n",
       "    <tr style=\"text-align: right;\">\n",
       "      <th></th>\n",
       "      <th>year</th>\n",
       "      <th>wtsupp</th>\n",
       "      <th>age</th>\n",
       "      <th>sex</th>\n",
       "      <th>popstat</th>\n",
       "      <th>labforce</th>\n",
       "    </tr>\n",
       "  </thead>\n",
       "  <tbody>\n",
       "    <tr>\n",
       "      <th>0</th>\n",
       "      <td>1995</td>\n",
       "      <td>929.61</td>\n",
       "      <td>48</td>\n",
       "      <td>2</td>\n",
       "      <td>1</td>\n",
       "      <td>1</td>\n",
       "    </tr>\n",
       "    <tr>\n",
       "      <th>1</th>\n",
       "      <td>1995</td>\n",
       "      <td>832.67</td>\n",
       "      <td>65</td>\n",
       "      <td>2</td>\n",
       "      <td>1</td>\n",
       "      <td>2</td>\n",
       "    </tr>\n",
       "    <tr>\n",
       "      <th>2</th>\n",
       "      <td>1995</td>\n",
       "      <td>787.95</td>\n",
       "      <td>10</td>\n",
       "      <td>2</td>\n",
       "      <td>3</td>\n",
       "      <td>0</td>\n",
       "    </tr>\n",
       "    <tr>\n",
       "      <th>3</th>\n",
       "      <td>1995</td>\n",
       "      <td>938.27</td>\n",
       "      <td>25</td>\n",
       "      <td>2</td>\n",
       "      <td>1</td>\n",
       "      <td>2</td>\n",
       "    </tr>\n",
       "    <tr>\n",
       "      <th>4</th>\n",
       "      <td>1995</td>\n",
       "      <td>900.74</td>\n",
       "      <td>21</td>\n",
       "      <td>1</td>\n",
       "      <td>1</td>\n",
       "      <td>2</td>\n",
       "    </tr>\n",
       "    <tr>\n",
       "      <th>5</th>\n",
       "      <td>1995</td>\n",
       "      <td>864.86</td>\n",
       "      <td>36</td>\n",
       "      <td>1</td>\n",
       "      <td>1</td>\n",
       "      <td>2</td>\n",
       "    </tr>\n",
       "    <tr>\n",
       "      <th>6</th>\n",
       "      <td>1995</td>\n",
       "      <td>864.86</td>\n",
       "      <td>33</td>\n",
       "      <td>2</td>\n",
       "      <td>1</td>\n",
       "      <td>2</td>\n",
       "    </tr>\n",
       "    <tr>\n",
       "      <th>7</th>\n",
       "      <td>1995</td>\n",
       "      <td>1044.21</td>\n",
       "      <td>2</td>\n",
       "      <td>2</td>\n",
       "      <td>3</td>\n",
       "      <td>0</td>\n",
       "    </tr>\n",
       "    <tr>\n",
       "      <th>8</th>\n",
       "      <td>1995</td>\n",
       "      <td>820.95</td>\n",
       "      <td>0</td>\n",
       "      <td>2</td>\n",
       "      <td>3</td>\n",
       "      <td>0</td>\n",
       "    </tr>\n",
       "    <tr>\n",
       "      <th>9</th>\n",
       "      <td>1995</td>\n",
       "      <td>798.48</td>\n",
       "      <td>90</td>\n",
       "      <td>2</td>\n",
       "      <td>1</td>\n",
       "      <td>1</td>\n",
       "    </tr>\n",
       "  </tbody>\n",
       "</table>\n",
       "</div>"
      ],
      "text/plain": [
       "   year   wtsupp  age  sex  popstat  labforce\n",
       "0  1995   929.61   48    2        1         1\n",
       "1  1995   832.67   65    2        1         2\n",
       "2  1995   787.95   10    2        3         0\n",
       "3  1995   938.27   25    2        1         2\n",
       "4  1995   900.74   21    1        1         2\n",
       "5  1995   864.86   36    1        1         2\n",
       "6  1995   864.86   33    2        1         2\n",
       "7  1995  1044.21    2    2        3         0\n",
       "8  1995   820.95    0    2        3         0\n",
       "9  1995   798.48   90    2        1         1"
      ]
     },
     "execution_count": 190,
     "metadata": {},
     "output_type": "execute_result"
    }
   ],
   "source": [
    "df.head(10)"
   ]
  },
  {
   "cell_type": "code",
   "execution_count": 191,
   "metadata": {},
   "outputs": [
    {
     "data": {
      "text/html": [
       "<div>\n",
       "<style scoped>\n",
       "    .dataframe tbody tr th:only-of-type {\n",
       "        vertical-align: middle;\n",
       "    }\n",
       "\n",
       "    .dataframe tbody tr th {\n",
       "        vertical-align: top;\n",
       "    }\n",
       "\n",
       "    .dataframe thead th {\n",
       "        text-align: right;\n",
       "    }\n",
       "</style>\n",
       "<table border=\"1\" class=\"dataframe\">\n",
       "  <thead>\n",
       "    <tr style=\"text-align: right;\">\n",
       "      <th></th>\n",
       "      <th>year</th>\n",
       "      <th>wtsupp</th>\n",
       "      <th>age</th>\n",
       "      <th>sex</th>\n",
       "      <th>popstat</th>\n",
       "      <th>labforce</th>\n",
       "    </tr>\n",
       "  </thead>\n",
       "  <tbody>\n",
       "    <tr>\n",
       "      <th>39941</th>\n",
       "      <td>1995</td>\n",
       "      <td>1655.10</td>\n",
       "      <td>72</td>\n",
       "      <td>2</td>\n",
       "      <td>1</td>\n",
       "      <td>1</td>\n",
       "    </tr>\n",
       "    <tr>\n",
       "      <th>39070</th>\n",
       "      <td>1995</td>\n",
       "      <td>1870.18</td>\n",
       "      <td>43</td>\n",
       "      <td>2</td>\n",
       "      <td>1</td>\n",
       "      <td>2</td>\n",
       "    </tr>\n",
       "    <tr>\n",
       "      <th>101813</th>\n",
       "      <td>1995</td>\n",
       "      <td>1629.70</td>\n",
       "      <td>18</td>\n",
       "      <td>2</td>\n",
       "      <td>1</td>\n",
       "      <td>2</td>\n",
       "    </tr>\n",
       "    <tr>\n",
       "      <th>198824</th>\n",
       "      <td>2015</td>\n",
       "      <td>3970.10</td>\n",
       "      <td>56</td>\n",
       "      <td>1</td>\n",
       "      <td>1</td>\n",
       "      <td>2</td>\n",
       "    </tr>\n",
       "    <tr>\n",
       "      <th>337143</th>\n",
       "      <td>2015</td>\n",
       "      <td>3112.56</td>\n",
       "      <td>69</td>\n",
       "      <td>2</td>\n",
       "      <td>1</td>\n",
       "      <td>1</td>\n",
       "    </tr>\n",
       "    <tr>\n",
       "      <th>...</th>\n",
       "      <td>...</td>\n",
       "      <td>...</td>\n",
       "      <td>...</td>\n",
       "      <td>...</td>\n",
       "      <td>...</td>\n",
       "      <td>...</td>\n",
       "    </tr>\n",
       "    <tr>\n",
       "      <th>64587</th>\n",
       "      <td>1995</td>\n",
       "      <td>47.83</td>\n",
       "      <td>49</td>\n",
       "      <td>2</td>\n",
       "      <td>1</td>\n",
       "      <td>2</td>\n",
       "    </tr>\n",
       "    <tr>\n",
       "      <th>298393</th>\n",
       "      <td>2015</td>\n",
       "      <td>100.36</td>\n",
       "      <td>5</td>\n",
       "      <td>1</td>\n",
       "      <td>3</td>\n",
       "      <td>0</td>\n",
       "    </tr>\n",
       "    <tr>\n",
       "      <th>64583</th>\n",
       "      <td>1995</td>\n",
       "      <td>50.46</td>\n",
       "      <td>34</td>\n",
       "      <td>1</td>\n",
       "      <td>1</td>\n",
       "      <td>2</td>\n",
       "    </tr>\n",
       "    <tr>\n",
       "      <th>64580</th>\n",
       "      <td>1995</td>\n",
       "      <td>56.45</td>\n",
       "      <td>5</td>\n",
       "      <td>1</td>\n",
       "      <td>3</td>\n",
       "      <td>0</td>\n",
       "    </tr>\n",
       "    <tr>\n",
       "      <th>212491</th>\n",
       "      <td>2015</td>\n",
       "      <td>50.17</td>\n",
       "      <td>4</td>\n",
       "      <td>1</td>\n",
       "      <td>3</td>\n",
       "      <td>0</td>\n",
       "    </tr>\n",
       "  </tbody>\n",
       "</table>\n",
       "<p>348666 rows × 6 columns</p>\n",
       "</div>"
      ],
      "text/plain": [
       "        year   wtsupp  age  sex  popstat  labforce\n",
       "39941   1995  1655.10   72    2        1         1\n",
       "39070   1995  1870.18   43    2        1         2\n",
       "101813  1995  1629.70   18    2        1         2\n",
       "198824  2015  3970.10   56    1        1         2\n",
       "337143  2015  3112.56   69    2        1         1\n",
       "...      ...      ...  ...  ...      ...       ...\n",
       "64587   1995    47.83   49    2        1         2\n",
       "298393  2015   100.36    5    1        3         0\n",
       "64583   1995    50.46   34    1        1         2\n",
       "64580   1995    56.45    5    1        3         0\n",
       "212491  2015    50.17    4    1        3         0\n",
       "\n",
       "[348666 rows x 6 columns]"
      ]
     },
     "execution_count": 191,
     "metadata": {},
     "output_type": "execute_result"
    }
   ],
   "source": [
    "weighted_sample = df.sample(n=len(df), weights = 'wtsupp')\n",
    "weighted_sample"
   ]
  },
  {
   "cell_type": "markdown",
   "metadata": {},
   "source": [
    "# Question 1\n",
    "1.\tThe LFPR is defined as the adult civilian share of the population that is in the labor force, expressed as a percentage. Create graphs showing LFPR age profiles (the LFPR at each age) in 1995 and 2015. Please create three separate graphs: one for men, one for women, and one for the full population.\n"
   ]
  },
  {
   "cell_type": "markdown",
   "metadata": {},
   "source": [
    "## Total LFPR"
   ]
  },
  {
   "cell_type": "code",
   "execution_count": 323,
   "metadata": {},
   "outputs": [
    {
     "name": "stderr",
     "output_type": "stream",
     "text": [
      "C:\\Users\\Owner\\Anaconda3\\lib\\site-packages\\ipykernel_launcher.py:1: UserWarning: Boolean Series key will be reindexed to match DataFrame index.\n",
      "  \"\"\"Entry point for launching an IPython kernel.\n"
     ]
    },
    {
     "data": {
      "image/png": "[encoded data removed]",
      "text/plain": [
       "<Figure size 1440x360 with 1 Axes>"
      ]
     },
     "metadata": {
      "needs_background": "light"
     },
     "output_type": "display_data"
    }
   ],
   "source": [
    "lf = df[df['popstat']==1][df['age']>=15]\n",
    "\n",
    "workingpop_counts = (lf.groupby(['year','labforce'])['age']\n",
    "         .value_counts()\n",
    "         .rename('counts').reset_index()\n",
    "         .sort_values('age'))\n",
    "\n",
    "#sanity check\n",
    "#lf[lf['labforce']==1][lf['age']==21][lf['year']==1995]\n",
    "\n",
    "df_totpop = workingpop_counts.pivot_table(index=['age','year'], columns = 'labforce', values = 'counts' ).reset_index()\n",
    "df_totpop=df_totpop.rename(columns = { 1 : 'unemployed', 2: 'employed'})\n",
    "df_totpop['lfpr %'] = (df_totpop[\"employed\"]/(df_totpop[\"unemployed\"]+df_totpop[\"employed\"]))*100\n",
    "\n",
    "plt.figure(figsize=(20,5))\n",
    "sns.barplot(x='age', y='lfpr %', hue='year', data=df_totpop)\n",
    "\n",
    "plt.savefig('total population.png')"
   ]
  },
  {
   "cell_type": "markdown",
   "metadata": {},
   "source": [
    "## Female LFPR"
   ]
  },
  {
   "cell_type": "code",
   "execution_count": 324,
   "metadata": {},
   "outputs": [
    {
     "name": "stderr",
     "output_type": "stream",
     "text": [
      "C:\\Users\\Owner\\Anaconda3\\lib\\site-packages\\ipykernel_launcher.py:1: UserWarning: Boolean Series key will be reindexed to match DataFrame index.\n",
      "  \"\"\"Entry point for launching an IPython kernel.\n",
      "C:\\Users\\Owner\\Anaconda3\\lib\\site-packages\\ipykernel_launcher.py:1: UserWarning: Boolean Series key will be reindexed to match DataFrame index.\n",
      "  \"\"\"Entry point for launching an IPython kernel.\n"
     ]
    },
    {
     "data": {
      "image/png": "[encoded data removed]",
      "text/plain": [
       "<Figure size 1440x360 with 1 Axes>"
      ]
     },
     "metadata": {
      "needs_background": "light"
     },
     "output_type": "display_data"
    }
   ],
   "source": [
    "flf = df[df['popstat']==1][df['age']>=15][df['sex']==2]\n",
    "\n",
    "fworkingpop_counts = (flf.groupby(['year','labforce'])['age']\n",
    "         .value_counts()\n",
    "         .rename('counts').reset_index()\n",
    "         .sort_values('age'))\n",
    "\n",
    "fdf_totpop = fworkingpop_counts.pivot_table(index=['age','year'], columns = 'labforce', values = 'counts' ).reset_index()\n",
    "fdf_totpop=fdf_totpop.rename(columns = { 1 : 'unemployed', 2: 'employed'})\n",
    "fdf_totpop['lfpr %'] = (fdf_totpop[\"employed\"]/(fdf_totpop[\"unemployed\"]+fdf_totpop[\"employed\"]))*100\n",
    "\n",
    "plt.figure(figsize=(20,5))\n",
    "sns.barplot(x='age', y='lfpr %', hue='year', data=fdf_totpop,palette = \"Set1\")\n",
    "plt.savefig('female population.png')"
   ]
  },
  {
   "cell_type": "markdown",
   "metadata": {},
   "source": [
    "## Male LFPR"
   ]
  },
  {
   "cell_type": "code",
   "execution_count": 325,
   "metadata": {},
   "outputs": [
    {
     "name": "stderr",
     "output_type": "stream",
     "text": [
      "C:\\Users\\Owner\\Anaconda3\\lib\\site-packages\\ipykernel_launcher.py:1: UserWarning: Boolean Series key will be reindexed to match DataFrame index.\n",
      "  \"\"\"Entry point for launching an IPython kernel.\n",
      "C:\\Users\\Owner\\Anaconda3\\lib\\site-packages\\ipykernel_launcher.py:1: UserWarning: Boolean Series key will be reindexed to match DataFrame index.\n",
      "  \"\"\"Entry point for launching an IPython kernel.\n"
     ]
    },
    {
     "data": {
      "image/png": "[encoded data removed]",
      "text/plain": [
       "<Figure size 1440x360 with 1 Axes>"
      ]
     },
     "metadata": {
      "needs_background": "light"
     },
     "output_type": "display_data"
    }
   ],
   "source": [
    "mlf = df[df['popstat']==1][df['age']>=15][df['sex']==1]\n",
    "\n",
    "mworkingpop_counts = (mlf.groupby(['year','labforce'])['age']\n",
    "         .value_counts()\n",
    "         .rename('counts').reset_index()\n",
    "         .sort_values('age'))\n",
    "\n",
    "#sanity check\n",
    "#lf[lf['labforce']==1][lf['age']==21][lf['year']==1995]\n",
    "\n",
    "mdf_totpop = mworkingpop_counts.pivot_table(index=['age','year'], columns = 'labforce', values = 'counts' ).reset_index()\n",
    "mdf_totpop=mdf_totpop.rename(columns = { 1 : 'unemployed', 2: 'employed'})\n",
    "mdf_totpop['lfpr %'] = (mdf_totpop[\"employed\"]/(mdf_totpop[\"unemployed\"]+mdf_totpop[\"employed\"]))*100\n",
    "\n",
    "plt.figure(figsize=(20,5))\n",
    "sns.barplot(x='age', y='lfpr %', hue='year', data=mdf_totpop, palette = \"Set2\")\n",
    "plt.savefig('male population.png')"
   ]
  },
  {
   "cell_type": "markdown",
   "metadata": {},
   "source": [
    "\n",
    "and also add in legends, scales etc."
   ]
  },
  {
   "cell_type": "markdown",
   "metadata": {},
   "source": [
    "## Question 2\n",
    "2. The figures from Question 1 show a consistent pattern in the relationship between age and LFPR. What explains the shape of this age profile? In two or three sentences, describe the most important factors."
   ]
  },
  {
   "cell_type": "markdown",
   "metadata": {},
   "source": [
    "- the three LFPRs (male, female and total) all are shaped to be more uniform between the ages of 25-54. This consistency is evident because these are prime working ages, non-institutionalized civilians are typically employed within these ages and are at peak lifetime productivity and health\n",
    "- another consistent pattern when comparing the LFPRs of the three demographics between the years of 1995 and 2015 are that there is a skewing of higher participation to the left for 1995 ,i.e., people were employed earlier in their life and retired early. this could be potentially explained by the lower college attendance rate in 1995 compared to 2015\n",
    "- similarly, in 2015, there was higher LFPRs after the ages of 60 (compared to 1995). One possible explanation of this phenomenon could be improved healthcare and lower mortality, leading to healthier older populations in all three demographics"
   ]
  },
  {
   "cell_type": "markdown",
   "metadata": {},
   "source": [
    "## Question 3\n",
    "3. Calculate the aggregate LFPRs of persons aged 15 and over in 1995 and 2015. Please calculate the value separately for men, for women, and for the full population.\n"
   ]
  },
  {
   "cell_type": "code",
   "execution_count": 196,
   "metadata": {},
   "outputs": [
    {
     "data": {
      "text/plain": [
       "year\n",
       "1995    57.901230\n",
       "2015    63.832043\n",
       "Name: lfpr %, dtype: float64"
      ]
     },
     "execution_count": 196,
     "metadata": {},
     "output_type": "execute_result"
    }
   ],
   "source": [
    "#for male population\n",
    "mdf_totpop.groupby('year')['lfpr %'].mean()"
   ]
  },
  {
   "cell_type": "code",
   "execution_count": 197,
   "metadata": {},
   "outputs": [
    {
     "data": {
      "text/plain": [
       "year\n",
       "1995    47.400506\n",
       "2015    53.148756\n",
       "Name: lfpr %, dtype: float64"
      ]
     },
     "execution_count": 197,
     "metadata": {},
     "output_type": "execute_result"
    }
   ],
   "source": [
    "# for female population\n",
    "fdf_totpop.groupby('year')['lfpr %'].mean()"
   ]
  },
  {
   "cell_type": "code",
   "execution_count": 320,
   "metadata": {
    "scrolled": true
   },
   "outputs": [
    {
     "data": {
      "text/plain": [
       "year\n",
       "1995    51.615587\n",
       "2015    58.189910\n",
       "Name: lfpr %, dtype: float64"
      ]
     },
     "execution_count": 320,
     "metadata": {},
     "output_type": "execute_result"
    }
   ],
   "source": [
    "# for total population\n",
    "df_totpop.groupby('year')['lfpr %'].mean()"
   ]
  },
  {
   "cell_type": "code",
   "execution_count": 321,
   "metadata": {},
   "outputs": [
    {
     "data": {
      "text/plain": [
       "year\n",
       "1995    66.592054\n",
       "2015    74.171584\n",
       "Name: lfpr %, dtype: float64"
      ]
     },
     "execution_count": 321,
     "metadata": {},
     "output_type": "execute_result"
    }
   ],
   "source": [
    "# for total population\n",
    "df_totpop.groupby('year')['lfpr %'].median()"
   ]
  },
  {
   "cell_type": "code",
   "execution_count": 322,
   "metadata": {},
   "outputs": [
    {
     "data": {
      "text/plain": [
       "year\n",
       "1995    33.540977\n",
       "2015    27.724135\n",
       "Name: lfpr %, dtype: float64"
      ]
     },
     "execution_count": 322,
     "metadata": {},
     "output_type": "execute_result"
    }
   ],
   "source": [
    "#std deviation for total population\n",
    "df_totpop.groupby('year')['lfpr %'].std()"
   ]
  },
  {
   "cell_type": "markdown",
   "metadata": {},
   "source": [
    "## Question 4\n",
    "4. Calculate the effect of population aging on the aggregate (full population) LFPR. Specifically, what would the aggregate participation rate of persons aged 15 and over have been in 2015 if the age distribution of the population were the same as it was in 1995?"
   ]
  },
  {
   "cell_type": "code",
   "execution_count": 301,
   "metadata": {},
   "outputs": [
    {
     "data": {
      "text/html": [
       "<div>\n",
       "<style scoped>\n",
       "    .dataframe tbody tr th:only-of-type {\n",
       "        vertical-align: middle;\n",
       "    }\n",
       "\n",
       "    .dataframe tbody tr th {\n",
       "        vertical-align: top;\n",
       "    }\n",
       "\n",
       "    .dataframe thead th {\n",
       "        text-align: right;\n",
       "    }\n",
       "</style>\n",
       "<table border=\"1\" class=\"dataframe\">\n",
       "  <thead>\n",
       "    <tr style=\"text-align: right;\">\n",
       "      <th>year</th>\n",
       "      <th>age</th>\n",
       "      <th>1995</th>\n",
       "      <th>2015</th>\n",
       "      <th>delta lfpr</th>\n",
       "    </tr>\n",
       "  </thead>\n",
       "  <tbody>\n",
       "    <tr>\n",
       "      <th>0</th>\n",
       "      <td>15</td>\n",
       "      <td>13.276710</td>\n",
       "      <td>6.135531</td>\n",
       "      <td>-7.141179</td>\n",
       "    </tr>\n",
       "    <tr>\n",
       "      <th>1</th>\n",
       "      <td>16</td>\n",
       "      <td>33.395262</td>\n",
       "      <td>15.105163</td>\n",
       "      <td>-18.290100</td>\n",
       "    </tr>\n",
       "    <tr>\n",
       "      <th>2</th>\n",
       "      <td>17</td>\n",
       "      <td>44.843898</td>\n",
       "      <td>27.238922</td>\n",
       "      <td>-17.604976</td>\n",
       "    </tr>\n",
       "    <tr>\n",
       "      <th>3</th>\n",
       "      <td>18</td>\n",
       "      <td>56.173469</td>\n",
       "      <td>41.382834</td>\n",
       "      <td>-14.790636</td>\n",
       "    </tr>\n",
       "    <tr>\n",
       "      <th>4</th>\n",
       "      <td>19</td>\n",
       "      <td>63.881099</td>\n",
       "      <td>53.353396</td>\n",
       "      <td>-10.527703</td>\n",
       "    </tr>\n",
       "  </tbody>\n",
       "</table>\n",
       "</div>"
      ],
      "text/plain": [
       "year  age       1995       2015  delta lfpr\n",
       "0      15  13.276710   6.135531   -7.141179\n",
       "1      16  33.395262  15.105163  -18.290100\n",
       "2      17  44.843898  27.238922  -17.604976\n",
       "3      18  56.173469  41.382834  -14.790636\n",
       "4      19  63.881099  53.353396  -10.527703"
      ]
     },
     "execution_count": 301,
     "metadata": {},
     "output_type": "execute_result"
    }
   ],
   "source": [
    "change = df_totpop.pivot_table(index=['age'], columns='year', values='lfpr %').reset_index()\n",
    "change['delta lfpr'] = change[2015] - change[1995]\n",
    "change.head()"
   ]
  },
  {
   "cell_type": "code",
   "execution_count": 317,
   "metadata": {},
   "outputs": [
    {
     "name": "stdout",
     "output_type": "stream",
     "text": [
      "mean of delta lfpr 66.96215680520172 %\n",
      "std dev of delta lfpr is  6.792264210172036\n"
     ]
    }
   ],
   "source": [
    "print(\"mean of delta lfpr\",change['delta lfpr'].mean() * 100, \"%\")\n",
    "print(\"std dev of delta lfpr is \",change['delta lfpr'].std())"
   ]
  },
  {
   "cell_type": "code",
   "execution_count": 327,
   "metadata": {},
   "outputs": [
    {
     "data": {
      "image/png": "[encoded data removed]",
      "text/plain": [
       "<Figure size 432x288 with 1 Axes>"
      ]
     },
     "metadata": {
      "needs_background": "light"
     },
     "output_type": "display_data"
    }
   ],
   "source": [
    "#LFPR(2015)- LFPR(1995), to show change in the participation rate between the 10 years\n",
    "sns.lineplot(data = change, x= 'age', y= 'delta lfpr')\n",
    "sns.regplot(x= 'age', y= 'delta lfpr',data = change, fit_reg=True )\n",
    "\n",
    "plt.savefig('change in population.png')"
   ]
  },
  {
   "cell_type": "code",
   "execution_count": 300,
   "metadata": {},
   "outputs": [
    {
     "data": {
      "text/plain": [
       "<matplotlib.axes._subplots.AxesSubplot at 0x1a185b1bf08>"
      ]
     },
     "execution_count": 300,
     "metadata": {},
     "output_type": "execute_result"
    },
    {
     "data": {
      "image/png": "[encoded data removed]",
      "text/plain": [
       "<Figure size 432x288 with 1 Axes>"
      ]
     },
     "metadata": {
      "needs_background": "light"
     },
     "output_type": "display_data"
    }
   ],
   "source": [
    "sns.scatterplot( x = 'age', y = 'lfpr %',data = df_totpop, style='year')"
   ]
  },
  {
   "cell_type": "markdown",
   "metadata": {},
   "source": [
    "## Question 5\n",
    "5. From Question 4, it is clear that changes in the population’s age structure account for some of the changes in LFPR. Write a paragraph or two describing some of the other major factors that might have contributed to changes in LFPR. Note: The answer to this question is not found in the data that we provided but involves doing some quick online research to understand the drivers of labor force participation."
   ]
  },
  {
   "cell_type": "markdown",
   "metadata": {},
   "source": [
    "### Answer\n",
    "In the line graph showing the trend in 'delta LFPR', it is ecident that there are more older participants in the labor force in 2015 as compared to 1995. This could be elucidated by a couple of factors:\n",
    "    - increased birth rate, reduced mortality rate: the improvement in healthcare knowledge and technology has helped reduce the rate of miscarraige and increased successful births since 1995. Coupled with advancements in neonatal care and general health care for all ages, the average age of employment has gone up from 66 in 1995 to 74 in 2015\n",
    "    - economic conditions, namely inflation has increased the cost of living, while reducing the real cost of money, depreciating savings. It could also be hypothesized that general lifestyle changes like increased spending and reduced saving has resulted in the inter temporal budget constraint being heavily skewed towards time period 1. The increased money expenditure could also require extended participation in the labor force and delayed retirement which could explain the right skewing shown in the 2015 data\n",
    "    - Female and male participation in the labor force has also increased since 1995, which could mean that there are more households with dual incomes. This hypothesis could be explared broadly by evaluating with respect to US GDP between 1995 and 2015.\n",
    "    "
   ]
  },
  {
   "cell_type": "markdown",
   "metadata": {},
   "source": [
    "## Question 6\n",
    "6. Based on your answers to the previous questions, describe in two or three sentences how you would approach forecasting the LFPR in 2025. What data and variables would you use to make a projection?"
   ]
  },
  {
   "cell_type": "markdown",
   "metadata": {},
   "source": [
    "With the dataset only containing data from the two years 1995 and 2015, it is difficult to guess the degree of growth in population i.e., linear or exponential. However for simplicity and demonstrated growth, I would assume a linear model of population growth with LFPR data for years from 1995 leading upto the latest year. The recession caused by the pandemic and the great resignation would likely be outliers to a conventional linear regression but are still valuable to incorporate. \n",
    "\n",
    "(At a very high level, I would also aim to potentially use a hierarchian bayesian model and control for the priors to estimate the posterior as a factor of age, unemployment rates and a Gaussian noise level.) -> potentially  overkill"
   ]
  }
 ],
 "metadata": {
  "kernelspec": {
   "display_name": "Python 3",
   "language": "python",
   "name": "python3"
  },
  "language_info": {
   "codemirror_mode": {
    "name": "ipython",
    "version": 3
   },
   "file_extension": ".py",
   "mimetype": "text/x-python",
   "name": "python",
   "nbconvert_exporter": "python",
   "pygments_lexer": "ipython3",
   "version": "3.7.4"
  }
 },
 "nbformat": 4,
 "nbformat_minor": 2
}
